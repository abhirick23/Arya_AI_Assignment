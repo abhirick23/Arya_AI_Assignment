{
  "nbformat": 4,
  "nbformat_minor": 0,
  "metadata": {
    "colab": {
      "name": "Arya_Feature Selection.ipynb",
      "provenance": []
    },
    "kernelspec": {
      "name": "python3",
      "display_name": "Python 3"
    },
    "language_info": {
      "name": "python"
    }
  },
  "cells": [
    {
      "cell_type": "code",
      "metadata": {
        "colab": {
          "base_uri": "https://localhost:8080/"
        },
        "id": "ThtFM3Q_apyG",
        "outputId": "a2eb5f60-8816-4038-c679-9867e3ee9f0a"
      },
      "source": [
        "from google.colab import drive\n",
        "drive.mount('/gdrive/')\n",
        "%cd /gdrive"
      ],
      "execution_count": 1,
      "outputs": [
        {
          "output_type": "stream",
          "name": "stdout",
          "text": [
            "Mounted at /gdrive/\n",
            "/gdrive\n"
          ]
        }
      ]
    },
    {
      "cell_type": "code",
      "metadata": {
        "colab": {
          "base_uri": "https://localhost:8080/"
        },
        "id": "WpE12VSqau6G",
        "outputId": "53a50142-17e4-42e7-b150-3ee49864a963"
      },
      "source": [
        "ls"
      ],
      "execution_count": 2,
      "outputs": [
        {
          "output_type": "stream",
          "name": "stdout",
          "text": [
            "\u001b[0m\u001b[01;34mMyDrive\u001b[0m/  \u001b[01;34mShareddrives\u001b[0m/\n"
          ]
        }
      ]
    },
    {
      "cell_type": "code",
      "metadata": {
        "colab": {
          "base_uri": "https://localhost:8080/"
        },
        "id": "9PH1ASfIau27",
        "outputId": "93c18b16-f6f0-454d-d5ce-8a6cf38c8fab"
      },
      "source": [
        "cd/gdrive/My Drive/Arya_DataScientist_Assignment"
      ],
      "execution_count": 3,
      "outputs": [
        {
          "output_type": "stream",
          "name": "stdout",
          "text": [
            "/gdrive/My Drive/Arya_DataScientist_Assignment\n"
          ]
        }
      ]
    },
    {
      "cell_type": "code",
      "metadata": {
        "colab": {
          "base_uri": "https://localhost:8080/"
        },
        "id": "FR9rXt7Mauzw",
        "outputId": "4c05c9dd-b13d-4090-a125-2a57dee3eb18"
      },
      "source": [
        "ls"
      ],
      "execution_count": 4,
      "outputs": [
        {
          "output_type": "stream",
          "name": "stdout",
          "text": [
            "test_set.csv  training_set.csv\n"
          ]
        }
      ]
    },
    {
      "cell_type": "markdown",
      "metadata": {
        "id": "dsfq0YSwbHRJ"
      },
      "source": [
        "Import all necessary libraries"
      ]
    },
    {
      "cell_type": "code",
      "metadata": {
        "id": "8DCJHUc4auwp"
      },
      "source": [
        "import pandas as pd\n",
        "import numpy as np\n",
        "import matplotlib.pyplot as plt\n",
        "from sklearn.model_selection import train_test_split\n",
        "from sklearn.linear_model import Lasso, LogisticRegression\n",
        "from sklearn.feature_selection import SelectFromModel\n",
        "from sklearn.preprocessing import StandardScaler"
      ],
      "execution_count": 22,
      "outputs": []
    },
    {
      "cell_type": "markdown",
      "metadata": {
        "id": "Q_RAxI1kbMUF"
      },
      "source": [
        "Load training dataset from csv file"
      ]
    },
    {
      "cell_type": "code",
      "metadata": {
        "id": "nVoOH0fuaute"
      },
      "source": [
        "data = pd.read_csv('training_set.csv')\n",
        "data = data.iloc[:, 1:]"
      ],
      "execution_count": 7,
      "outputs": []
    },
    {
      "cell_type": "markdown",
      "metadata": {
        "id": "V5IeEAvObUBG"
      },
      "source": [
        "Separate features and classes"
      ]
    },
    {
      "cell_type": "code",
      "metadata": {
        "id": "xFTr6xMgauqA"
      },
      "source": [
        "features = data.iloc[:, :-1]\n",
        "classes = data.iloc[:, -1]\n",
        "# features.columns"
      ],
      "execution_count": 9,
      "outputs": []
    },
    {
      "cell_type": "markdown",
      "metadata": {
        "id": "y7XHNwETbYd4"
      },
      "source": [
        "Feature selection using L1 regularization"
      ]
    },
    {
      "cell_type": "code",
      "metadata": {
        "id": "vpotzzodaujf"
      },
      "source": [
        "train_score = []\n",
        "validation_score = []\n",
        "k_vals = []\n",
        "sc = StandardScaler()\n",
        "\n",
        "for i in range(1, 10):\n",
        "    k = i/10\n",
        "    k_vals.append(k)\n",
        "\n",
        "    sel_ = SelectFromModel(LogisticRegression(C=k, penalty='l1', solver='liblinear'))\n",
        "    sel_.fit(features.values, classes.values)\n",
        "    unwanted_features = features.columns[(sel_.estimator_.coef_ == 0).ravel().tolist()]    \n",
        "\n",
        "\n",
        "    refined_features = features.drop(unwanted_features, axis=1, inplace=False)\n",
        "\n",
        "\n",
        "    X_train, X_validate, y_train, y_validate = train_test_split(refined_features.values, classes.values, test_size = 0.20, random_state = 0)\n",
        "    \n",
        "    X_train = sc.fit_transform(X_train)\n",
        "    X_validate = sc.transform(X_validate)    \n",
        "\n",
        "\n",
        "    classifier = LogisticRegression(random_state = 0)\n",
        "    classifier.fit(X_train, y_train)    \n",
        "    tr_score = classifier.score(X_train, y_train)\n",
        "    train_score.append(tr_score)    \n",
        "    val_score = classifier.score(X_validate, y_validate)\n",
        "    validation_score.append(val_score)\n",
        "    y_pred = classifier.predict(X_validate)"
      ],
      "execution_count": 20,
      "outputs": []
    },
    {
      "cell_type": "code",
      "metadata": {
        "colab": {
          "base_uri": "https://localhost:8080/",
          "height": 389
        },
        "id": "kCdMs0lcdNnp",
        "outputId": "3b8f3e31-8382-4c12-ac7f-fbd02e40a003"
      },
      "source": [
        "plt.figure(figsize=(10,5))\n",
        "plt.xlabel('Different Values of K')\n",
        "plt.ylabel('Model score')\n",
        "plt.scatter(k_vals, train_score, color = 'r', label = \"training score\")\n",
        "plt.scatter(k_vals, validation_score, color = 'b', label = 'validation score')\n",
        "plt.legend(bbox_to_anchor=(1, 1),\n",
        "           bbox_transform=plt.gcf().transFigure)"
      ],
      "execution_count": 19,
      "outputs": [
        {
          "output_type": "execute_result",
          "data": {
            "text/plain": [
              "<matplotlib.legend.Legend at 0x7f6587fb9a50>"
            ]
          },
          "metadata": {},
          "execution_count": 19
        },
        {
          "output_type": "display_data",
          "data": {
            "image/png": "[encoded data removed]",
            "text/plain": [
              "<Figure size 720x360 with 1 Axes>"
            ]
          },
          "metadata": {
            "needs_background": "light"
          }
        }
      ]
    }
  ]
}